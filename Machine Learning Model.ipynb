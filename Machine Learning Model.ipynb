{
  "nbformat": 4,
  "nbformat_minor": 0,
  "metadata": {
    "colab": {
      "name": "1106937_testv2.ipynb",
      "provenance": [],
      "collapsed_sections": []
    },
    "kernelspec": {
      "name": "python3",
      "display_name": "Python 3"
    }
  },
  "cells": [
    {
      "cell_type": "code",
      "metadata": {
        "id": "x7lI33XvM6ij",
        "colab_type": "code",
        "colab": {}
      },
      "source": [
        "# import the necessary packages\n",
        "import os\n",
        "# initialize the path to the *original* input directory of images\n",
        "ORIG_INPUT_DATASET = \"DS\"\n",
        "# initialize the base path to the *new* directory that will contain\n",
        "# our images after computing the training and testing split\n",
        "BASE_PATH = \"SHI_sample\"\n",
        "# define the names of the training, testing\n",
        "# directories\n",
        "TRAIN = \"training\"\n",
        "TEST = \"evaluation\"\n",
        "# initialize the list of class label names\n",
        "CLASSES = [\"Abdomen\", \"Chest\", \"Head\"]\n",
        "# set the batch size\n",
        "batch_size = 32\n",
        "# initialize the label encoder file path and the output directory to\n",
        "# where the extracted features (in CSV file format) will be stored\n",
        "\n",
        "path = \"/content/drive/My Drive/SHI_sample/DS\"\n",
        "\n",
        "image_data = []\n",
        "image_label = []\n",
        "image_labels = []\n",
        "CT_images = []\n",
        "CT_labels = []\n"
      ],
      "execution_count": 1,
      "outputs": []
    },
    {
      "cell_type": "code",
      "metadata": {
        "id": "MjJ_K5xbNEtw",
        "colab_type": "code",
        "colab": {
          "base_uri": "https://localhost:8080/",
          "height": 120
        },
        "outputId": "14bc7ab5-05b0-426a-dc0e-939d31c5f6ef"
      },
      "source": [
        "# mounting the google drive so that dataset can be processed\n",
        "from google.colab import drive\n",
        "drive.mount('/content/drive')"
      ],
      "execution_count": 2,
      "outputs": [
        {
          "output_type": "stream",
          "text": [
            "Go to this URL in a browser: https://accounts.google.com/o/oauth2/auth?client_id=947318989803-6bn6qk8qdgf4n4g3pfee6491hc0brc4i.apps.googleusercontent.com&redirect_uri=urn%3aietf%3awg%3aoauth%3a2.0%3aoob&response_type=code&scope=email%20https%3a%2f%2fwww.googleapis.com%2fauth%2fdocs.test%20https%3a%2f%2fwww.googleapis.com%2fauth%2fdrive%20https%3a%2f%2fwww.googleapis.com%2fauth%2fdrive.photos.readonly%20https%3a%2f%2fwww.googleapis.com%2fauth%2fpeopleapi.readonly\n",
            "\n",
            "Enter your authorization code:\n",
            "··········\n",
            "Mounted at /content/drive\n"
          ],
          "name": "stdout"
        }
      ]
    },
    {
      "cell_type": "code",
      "metadata": {
        "id": "kiIAY9nbNJBv",
        "colab_type": "code",
        "colab": {}
      },
      "source": [
        "import warnings\n",
        "warnings.filterwarnings('ignore')\n",
        "import pickle\n",
        "import matplotlib.pyplot as plt\n",
        "import numpy as np\n",
        "import pandas as pd\n",
        "# import seaborn as sns\n",
        "import tensorflow as tf\n",
        "import shutil, sys "
      ],
      "execution_count": 3,
      "outputs": []
    },
    {
      "cell_type": "code",
      "metadata": {
        "id": "kMdQV98jNLWS",
        "colab_type": "code",
        "colab": {
          "base_uri": "https://localhost:8080/",
          "height": 67
        },
        "outputId": "529e6203-6698-4de7-b207-13f2245ab2ee"
      },
      "source": [
        "# Creating the directories for each category of CT image. The command will check if it is already present or not as well\n",
        "!if [ -d '/content/drive/My Drive/SHI_sample/DS/Abdomen' ]; then echo \"Directory Abdomen already exist\" ; else mkdir '/content/drive/My Drive/SHI_sample/DS/Abdomen' && echo \"Directory Abdomen created\"; fi\n",
        "!if [ -d '/content/drive/My Drive/SHI_sample/DS/Chest' ]; then echo \"Directory Chest already exist\" ; else mkdir '/content/drive/My Drive/SHI_sample/DS/Chest' && echo \"Directory Chest created\"; fi\n",
        "!if [ -d '/content/drive/My Drive/SHI_sample/DS/Head' ]; then echo \"Directory Head already exist\" ; else mkdir '/content/drive/My Drive/SHI_sample/DS/Head' && echo \"Directory Head created\"; fi\n"
      ],
      "execution_count": 4,
      "outputs": [
        {
          "output_type": "stream",
          "text": [
            "Directory Abdomen already exist\n",
            "Directory Chest already exist\n",
            "Directory Head already exist\n"
          ],
          "name": "stdout"
        }
      ]
    },
    {
      "cell_type": "code",
      "metadata": {
        "id": "UNgPquz7dVeb",
        "colab_type": "code",
        "colab": {}
      },
      "source": [
        "Abdomen_folder_path = \"/content/drive/My Drive/SHI_sample/DS/Abdomen\"\n",
        "Abdomen_images = os.listdir(\"/content/drive/My Drive/SHI_sample/DS/Abdomen\")\n",
        "Head_folder_path = \"/content/drive/My Drive/SHI_sample/DS/Head\"\n",
        "Head_images = os.listdir(\"/content/drive/My Drive/SHI_sample/DS/Head\")\n",
        "Chest_folder_path = \"/content/drive/My Drive/SHI_sample/DS/Chest\"\n",
        "Chest_images = os.listdir(\"/content/drive/My Drive/SHI_sample/DS/Chest\")\n",
        "CNN_path='/content/drive/My Drive/SHI_sample/CNNmodel'"
      ],
      "execution_count": 5,
      "outputs": []
    },
    {
      "cell_type": "markdown",
      "metadata": {
        "id": "eayULkPct6lS",
        "colab_type": "text"
      },
      "source": [
        "Moving the files from the primary data set folder to respective folders "
      ]
    },
    {
      "cell_type": "code",
      "metadata": {
        "id": "ej7MVdOBNewb",
        "colab_type": "code",
        "colab": {}
      },
      "source": [
        "for file_count in range(0,500):\n",
        "  if len(Abdomen_images) != 500:\n",
        "    shutil.move('/content/drive/My Drive/SHI_sample/DS/Abdomen_CT Sample#'+ str(file_count) +'.jpeg', '/content/drive/My Drive/SHI_sample/DS/Abdomen')"
      ],
      "execution_count": 6,
      "outputs": []
    },
    {
      "cell_type": "code",
      "metadata": {
        "id": "YkhIB4EYNfd6",
        "colab_type": "code",
        "colab": {}
      },
      "source": [
        "for file_count in range(0,500):\n",
        "  if len(Chest_images) != 500:\n",
        "    shutil.move('/content/drive/My Drive/SHI_sample/DS/Chest_CT Sample#'+ str(file_count) +'.jpeg', '/content/drive/My Drive/SHI_sample/DS/Chest')\n",
        "    "
      ],
      "execution_count": 7,
      "outputs": []
    },
    {
      "cell_type": "code",
      "metadata": {
        "id": "7TkTHPB_Nidt",
        "colab_type": "code",
        "colab": {}
      },
      "source": [
        "for file_count in range(0,500):\n",
        "  if len(Head_images) != 500:\n",
        "    shutil.move('/content/drive/My Drive/SHI_sample/DS/Head_CT Sample#'+ str(file_count) +'.jpeg', '/content/drive/My Drive/SHI_sample/DS/Head')\n",
        "  "
      ],
      "execution_count": 8,
      "outputs": []
    },
    {
      "cell_type": "code",
      "metadata": {
        "id": "3lkc7gs3N0Ez",
        "colab_type": "code",
        "colab": {
          "base_uri": "https://localhost:8080/",
          "height": 33
        },
        "outputId": "5bf0ff1b-f1db-422b-aed7-26c1ee392037"
      },
      "source": [
        "dataset_dir = os.listdir(path)\n",
        "categories = sorted(dataset_dir)\n",
        "print(categories)"
      ],
      "execution_count": 9,
      "outputs": [
        {
          "output_type": "stream",
          "text": [
            "['Abdomen', 'Chest', 'Head']\n"
          ],
          "name": "stdout"
        }
      ]
    },
    {
      "cell_type": "code",
      "metadata": {
        "id": "euxGC2KGN4P2",
        "colab_type": "code",
        "colab": {}
      },
      "source": [
        "import cv2"
      ],
      "execution_count": 10,
      "outputs": []
    },
    {
      "cell_type": "code",
      "metadata": {
        "id": "A2057UwJN2Pm",
        "colab_type": "code",
        "colab": {}
      },
      "source": [
        "# Defining a function to split the images from the actual path and creating an array for all the images and labels respectively\n",
        "# Also, the function resizes the images to 32*32\n",
        " \n",
        "def image_label_split(categories, path):\n",
        "  for i, c in enumerate(categories):\n",
        "    for files in os.listdir(path + \"/\" + c):\n",
        "      input_extension = os.path.splitext(files)[1]\n",
        "      dataset_path = os.path.join(path + \"/\" + c, files)\n",
        "      final_label = dataset_path.split(os.path.sep)[-2]\n",
        "      image = cv2.imread(dataset_path)         \n",
        "      image_resized = cv2.resize(image, (32, 32))\n",
        "      image_data.append(image_resized)\n",
        "      image_label.append(final_label)\n",
        "  \n",
        "  CT_images = np.array(image_data)\n",
        "  CT_labels = np.array(image_label)\n",
        "  \n",
        "  # return image_data, image_label\n",
        "  return CT_images, CT_labels"
      ],
      "execution_count": 11,
      "outputs": []
    },
    {
      "cell_type": "code",
      "metadata": {
        "id": "x-s0Fo89KmvX",
        "colab_type": "code",
        "colab": {
          "base_uri": "https://localhost:8080/",
          "height": 67
        },
        "outputId": "0fe020fb-fc82-4699-f701-5b43845943e4"
      },
      "source": [
        "print(\"Number of Abdomen CT images are:\", len(Abdomen_images))\n",
        "print(\"Number of Chest CT images are:\", len(Chest_images))\n",
        "print(\"Number of Head CT images are:\", len(Head_images))"
      ],
      "execution_count": 12,
      "outputs": [
        {
          "output_type": "stream",
          "text": [
            "Number of Abdomen CT images are: 500\n",
            "Number of Chest CT images are: 500\n",
            "Number of Head CT images are: 500\n"
          ],
          "name": "stdout"
        }
      ]
    },
    {
      "cell_type": "code",
      "metadata": {
        "id": "E3YJ_pGFOKYG",
        "colab_type": "code",
        "colab": {}
      },
      "source": [
        "# The function is called to split the image and the labels from the given dataset \n",
        "final_image_data, final_image_label = image_label_split(categories, path)"
      ],
      "execution_count": 13,
      "outputs": []
    },
    {
      "cell_type": "code",
      "metadata": {
        "id": "CF9Ax4hbsVja",
        "colab_type": "code",
        "colab": {}
      },
      "source": [
        "# Creating individual id's for the labels of each images\n",
        "\n",
        "convert_label_no = {a:i for i,a in enumerate(np.unique(final_image_label))}\n",
        "convert_no_label = {a:j for j,a in convert_label_no.items()}\n",
        "label_no = np.array([convert_label_no[x] for x in final_image_label])"
      ],
      "execution_count": 14,
      "outputs": []
    },
    {
      "cell_type": "code",
      "metadata": {
        "id": "hWLijIsaLsL4",
        "colab_type": "code",
        "colab": {}
      },
      "source": [
        "# Importing necessary libraries for one-hot encoding\n",
        "#Normalization of the images and one-hot encoding of the labels\n",
        "\n",
        "from sklearn import preprocessing\n",
        "from sklearn.preprocessing import LabelBinarizer\n",
        "from sklearn.model_selection import train_test_split\n",
        "\n",
        "x_normalized_image = np.array(final_image_data / 255.0 - 0.5 )\n",
        "label_binarizer = LabelBinarizer()\n",
        "y_one_hot_label = label_binarizer.fit_transform(final_image_label)"
      ],
      "execution_count": 15,
      "outputs": []
    },
    {
      "cell_type": "code",
      "metadata": {
        "id": "QJSLgLHztn4y",
        "colab_type": "code",
        "colab": {}
      },
      "source": [
        "# Splitting the training and testing data for CNN model with 70:30 training ratio\n",
        "\n",
        "x_train, x_test, y_train, y_test = train_test_split(x_normalized_image, y_one_hot_label, train_size = 0.7,  shuffle = True, random_state = 42)"
      ],
      "execution_count": 16,
      "outputs": []
    },
    {
      "cell_type": "code",
      "metadata": {
        "id": "PQh32_KAtzbI",
        "colab_type": "code",
        "colab": {
          "base_uri": "https://localhost:8080/",
          "height": 100
        },
        "outputId": "91285cdb-5e1f-4b33-90dc-5c2703610d20"
      },
      "source": [
        "N_CATEGORY =len(convert_label_no)\n",
        "\n",
        "print(\"x_train shape:\", x_train.shape, \"\\ny_train shape:\", y_train.shape, \"\\nx_test shape:\", x_test.shape, \"\\ny_test shape:\", y_test.shape, \"\\nno. of categories:\", N_CATEGORY)"
      ],
      "execution_count": 17,
      "outputs": [
        {
          "output_type": "stream",
          "text": [
            "x_train shape: (1050, 32, 32, 3) \n",
            "y_train shape: (1050, 3) \n",
            "x_test shape: (450, 32, 32, 3) \n",
            "y_test shape: (450, 3) \n",
            "no. of categories: 3\n"
          ],
          "name": "stdout"
        }
      ]
    },
    {
      "cell_type": "code",
      "metadata": {
        "id": "jDWZFiUWS2JA",
        "colab_type": "code",
        "colab": {}
      },
      "source": [
        "# Performing necessary preprocessing using the ImageDataGenerator\n",
        "\n",
        "from keras.preprocessing.image import ImageDataGenerator\n",
        "datagen = ImageDataGenerator(\n",
        "        featurewise_center=True,\n",
        "        featurewise_std_normalization=True,\n",
        "        rotation_range=40,\n",
        "        width_shift_range=0.2,\n",
        "        height_shift_range=0.2,\n",
        "        rescale=1./255,\n",
        "        shear_range=0.2,\n",
        "        zoom_range=0.2,\n",
        "        horizontal_flip=True,\n",
        "        fill_mode='nearest')"
      ],
      "execution_count": 18,
      "outputs": []
    },
    {
      "cell_type": "markdown",
      "metadata": {
        "id": "sOQPqh0pwuty",
        "colab_type": "text"
      },
      "source": [
        "Importing necessary libraries to create a CNN model. The model is defined with a 2D Convolution.\n",
        "Dropout has been added to reduce the overfitting"
      ]
    },
    {
      "cell_type": "code",
      "metadata": {
        "id": "fQHJCW0zTjH1",
        "colab_type": "code",
        "colab": {}
      },
      "source": [
        "from keras.models import Model, Sequential, load_model\n",
        "from keras.layers import Conv1D, MaxPool1D, Conv2D, Conv2DTranspose, UpSampling2D, MaxPool2D, MaxPooling2D, Flatten, BatchNormalization, Input, Dense, Dropout, Activation, Add, Concatenate\n",
        "from keras.callbacks import ModelCheckpoint, ReduceLROnPlateau, EarlyStopping\n",
        "from keras.optimizers import Adam\n",
        "from keras import regularizers\n",
        "from keras.losses import categorical_crossentropy"
      ],
      "execution_count": 19,
      "outputs": []
    },
    {
      "cell_type": "code",
      "metadata": {
        "id": "MBteLkUx9ZZK",
        "colab_type": "code",
        "colab": {}
      },
      "source": [
        "def fit_model(x_train, y_train, x_test, y_test, lr):\n",
        "  model = Sequential([\n",
        "                      Conv2D(input_shape = (32,32,3), filters = 64, kernel_size = (3,3), padding = \"same\", activation = \"relu\", name = 'Layer1'),\n",
        "                      Conv2D(filters = 64, kernel_size = (3,3), padding = \"same\", activation = \"relu\", name = 'Layer2'),\n",
        "                      MaxPool2D(pool_size = (2,2), strides = (2,2), name = 'Layer3'),\n",
        "\n",
        "                      Conv2D(filters = 128, kernel_size = (3,3), padding = \"same\", activation = \"relu\", name = 'Layer4'),\n",
        "                      Conv2D(filters = 128, kernel_size = (3,3), padding = \"same\", activation = \"relu\", name = 'Layer5'),\n",
        "                      BatchNormalization(name = 'Layer6'),\n",
        "                      Dropout(0.5, name = 'Layer7'),\n",
        "                      MaxPool2D(pool_size = (2,2), strides = (2,2), name = 'Layer8'),\n",
        "                    \n",
        "                      Conv2D(filters = 256, kernel_size = (3,3), padding = \"same\", activation = \"relu\", name = 'Layer9'),\n",
        "                      Conv2D(filters = 256, kernel_size = (3,3), padding = \"same\", activation = \"relu\", name = 'Layer10'),\n",
        "                      Conv2D(filters = 256, kernel_size = (3,3), padding = \"same\", activation = \"relu\", name = 'Layer11'),\n",
        "                      BatchNormalization(name = 'Layer12'),\n",
        "                      Dropout(0.5, name = 'Layer13'),\n",
        "                      MaxPool2D(pool_size = (2,2),strides = (2,2), name = 'Layer14'),\n",
        "                    \n",
        "                      Conv2D(filters = 512, kernel_size = (3,3), padding = \"same\", activation = \"relu\", name = 'Layer15'),\n",
        "                      Conv2D(filters = 512, kernel_size = (3,3), padding = \"same\", activation = \"relu\", name = 'Layer16'),\n",
        "                      Conv2D(filters = 512, kernel_size = (3,3), padding = \"same\", activation = \"relu\", name = 'Layer17'),\n",
        "                      BatchNormalization(name = 'Layer18'),\n",
        "                      Dropout(0.5, name = 'Layer19'),\n",
        "                    \n",
        "                      MaxPool2D(pool_size = (2,2),strides = (2,2), name = 'Layer20'),\n",
        "                      Conv2D(filters = 512, kernel_size = (3,3), padding = \"same\", activation = \"relu\", name = 'Layer21'),\n",
        "                      Conv2D(filters = 512, kernel_size = (3,3), padding = \"same\", activation = \"relu\", name = 'Layer22'),\n",
        "                      Conv2D(filters = 512, kernel_size = (3,3), padding = \"same\", activation = \"relu\", name = 'Layer23'),\n",
        "                      Conv2D(filters = 512, kernel_size = (3,3), padding = \"same\", activation = \"relu\", name = 'Layer24'),\n",
        "                      BatchNormalization(name = 'Layer25'),\n",
        "                      Dropout(0.5, name = 'Layer26'),\n",
        "                    \n",
        "                      MaxPool2D(pool_size = (2,2), strides = (2,2), name = 'Layer27'),\n",
        "                      Flatten(name = 'Layer28'),\n",
        "                    \n",
        "                      Dropout(0.5, name = 'Layer29'),\n",
        "                      Dense(units=4096, activation = \"relu\", name = 'Layer30'),\n",
        "                      Dropout(0.5, name = 'Layer31'),\n",
        "                      Dense(units=4096, activation = \"relu\", name = 'Layer32'),\n",
        "                      Dense(units=3, activation = \"softmax\", name = 'Layer33'),\n",
        "                      ])\n",
        "  \n",
        "  opt = Adam(lr)\n",
        "  # Compiling the model with categorical crossentropy as loss function and Accuracy as the metric \n",
        "  model.compile(\n",
        "      optimizer=opt, \n",
        "      loss=categorical_crossentropy, \n",
        "      metrics=['accuracy']\n",
        "      )\n",
        "    # Having recurrent checkpoints to save the best models\n",
        "  ckpt_callback = ModelCheckpoint(\n",
        "      CNN_path,\n",
        "      monitor='accuracy', \n",
        "      verbose=1, \n",
        "      save_best_only=True, \n",
        "      mode='auto'\n",
        "      )\n",
        "\n",
        "  history = model.fit(\n",
        "      datagen.flow(x_train, y_train, batch_size=32),\n",
        "      steps_per_epoch=len(x_train) / 32, \n",
        "      epochs=5, \n",
        "      verbose=1,\n",
        "      callbacks=[ckpt_callback],\n",
        "      shuffle = True,\n",
        "      validation_data = (x_test, y_test)\n",
        "      )\n",
        "  \n",
        "  # pyplot.plot(history.history['accuracy'], label='train')\n",
        "  # pyplot.plot(history.history['val_accuracy'], label='test')\n",
        "  \n",
        "  # pyplot.show()\n",
        "  # pyplot.savefig(\"lr.png\")\n",
        "\n",
        "  # Saving the plot for loss between validation and training samples for each epoch \n",
        "\n",
        "  plt.plot(history.history['loss'])\n",
        "  plt.plot(history.history['val_loss'])\n",
        "  #plt.title('model loss')\n",
        "  plt.ylabel('loss')\n",
        "  plt.xlabel('epoch')\n",
        "  plt.legend(['train', 'val'], loc='upper right')\n",
        "  pyplot.title('Loss lrate='+str(lr), pad=-50)\n",
        "  plt.show()\n",
        "  plt.savefig('loss.png')\n",
        "\n",
        "  # Saving the plot for accuracy between validation and training samples for each epoch \n",
        "\n",
        "  plt.plot(history.history['accuracy'])\n",
        "  plt.plot(history.history['val_accuracy'])\n",
        "  #plt.title('model accuracy')\n",
        "  plt.ylabel('Accuracy')\n",
        "  plt.xlabel('epoch')\n",
        "  plt.legend(['train', 'val'], loc='upper right')\n",
        "  pyplot.title('Accuracy lrate='+str(lr), pad=-50)\n",
        "  plt.show()\n",
        "  plt.savefig('CNN accuracy.png')\n",
        "  model.save('/content/drive/My Drive/SHI_sample/CNNmodel/1106937_CNN.h5')\n",
        "  \n",
        "\n",
        "\n"
      ],
      "execution_count": 20,
      "outputs": []
    },
    {
      "cell_type": "code",
      "metadata": {
        "id": "43LL6Qt7_22L",
        "colab_type": "code",
        "colab": {
          "base_uri": "https://localhost:8080/",
          "height": 1000
        },
        "outputId": "1d2829d0-6d0e-4c77-d76c-eb737b8e9ca4"
      },
      "source": [
        "from matplotlib import pyplot\n",
        "# Setting Optimizer as Adam and defining the learning rate and its decay\n",
        "# lr = [1E-1, 1E-2, 1E-3]\n",
        "lr = [1E-1, 1E-2, 1E-3]\n",
        "for i in range(len(lr)):\n",
        "  # determine the plot number\n",
        "  # plot_no = 420 + (i+1)\n",
        "  # pyplot.subplot(plot_no)\n",
        "  fit_model(x_train, y_train, x_test, y_test, lr[i])\n"
      ],
      "execution_count": 21,
      "outputs": [
        {
          "output_type": "stream",
          "text": [
            "Epoch 1/5\n",
            "33/32 [==============================] - ETA: 0s - loss: 10406.5830 - accuracy: 0.5971\n",
            "Epoch 00001: accuracy improved from -inf to 0.59714, saving model to /content/drive/My Drive/SHI_sample/CNNmodel\n",
            "WARNING:tensorflow:From /usr/local/lib/python3.6/dist-packages/tensorflow/python/training/tracking/tracking.py:111: Model.state_updates (from tensorflow.python.keras.engine.training) is deprecated and will be removed in a future version.\n",
            "Instructions for updating:\n",
            "This property should not be used in TensorFlow 2.0, as updates are applied automatically.\n",
            "WARNING:tensorflow:From /usr/local/lib/python3.6/dist-packages/tensorflow/python/training/tracking/tracking.py:111: Layer.updates (from tensorflow.python.keras.engine.base_layer) is deprecated and will be removed in a future version.\n",
            "Instructions for updating:\n",
            "This property should not be used in TensorFlow 2.0, as updates are applied automatically.\n",
            "INFO:tensorflow:Assets written to: /content/drive/My Drive/SHI_sample/CNNmodel/assets\n",
            "33/32 [==============================] - 153s 5s/step - loss: 10406.5830 - accuracy: 0.5971 - val_loss: 145085333504.0000 - val_accuracy: 0.3578\n",
            "Epoch 2/5\n",
            "33/32 [==============================] - ETA: 0s - loss: 65.9335 - accuracy: 0.5810\n",
            "Epoch 00002: accuracy did not improve from 0.59714\n",
            "33/32 [==============================] - 171s 5s/step - loss: 65.9335 - accuracy: 0.5810 - val_loss: 17620621312.0000 - val_accuracy: 0.3578\n",
            "Epoch 3/5\n",
            "33/32 [==============================] - ETA: 0s - loss: 2.2476 - accuracy: 0.6076\n",
            "Epoch 00003: accuracy improved from 0.59714 to 0.60762, saving model to /content/drive/My Drive/SHI_sample/CNNmodel\n",
            "INFO:tensorflow:Assets written to: /content/drive/My Drive/SHI_sample/CNNmodel/assets\n",
            "33/32 [==============================] - 177s 5s/step - loss: 2.2476 - accuracy: 0.6076 - val_loss: 8106138624.0000 - val_accuracy: 0.3578\n",
            "Epoch 4/5\n",
            "33/32 [==============================] - ETA: 0s - loss: 1.3699 - accuracy: 0.6048\n",
            "Epoch 00004: accuracy did not improve from 0.60762\n",
            "33/32 [==============================] - 169s 5s/step - loss: 1.3699 - accuracy: 0.6048 - val_loss: 5691563008.0000 - val_accuracy: 0.3578\n",
            "Epoch 5/5\n",
            "33/32 [==============================] - ETA: 0s - loss: 0.8774 - accuracy: 0.5990\n",
            "Epoch 00005: accuracy did not improve from 0.60762\n",
            "33/32 [==============================] - 175s 5s/step - loss: 0.8774 - accuracy: 0.5990 - val_loss: 4500744704.0000 - val_accuracy: 0.3578\n"
          ],
          "name": "stdout"
        },
        {
          "output_type": "display_data",
          "data": {
            "image/png": "[encoded data removed]",
            "text/plain": [
              "<Figure size 432x288 with 1 Axes>"
            ]
          },
          "metadata": {
            "tags": [],
            "needs_background": "light"
          }
        },
        {
          "output_type": "display_data",
          "data": {
            "image/png": "[encoded data removed]",
            "text/plain": [
              "<Figure size 432x288 with 1 Axes>"
            ]
          },
          "metadata": {
            "tags": [],
            "needs_background": "light"
          }
        },
        {
          "output_type": "stream",
          "text": [
            "Epoch 1/5\n",
            "33/32 [==============================] - ETA: 0s - loss: 59.7544 - accuracy: 0.6029\n",
            "Epoch 00001: accuracy improved from -inf to 0.60286, saving model to /content/drive/My Drive/SHI_sample/CNNmodel\n",
            "INFO:tensorflow:Assets written to: /content/drive/My Drive/SHI_sample/CNNmodel/assets\n",
            "33/32 [==============================] - 174s 5s/step - loss: 59.7544 - accuracy: 0.6029 - val_loss: 3265133.0000 - val_accuracy: 0.3578\n",
            "Epoch 2/5\n",
            "33/32 [==============================] - ETA: 0s - loss: 1.1847 - accuracy: 0.6838\n",
            "Epoch 00002: accuracy improved from 0.60286 to 0.68381, saving model to /content/drive/My Drive/SHI_sample/CNNmodel\n",
            "INFO:tensorflow:Assets written to: /content/drive/My Drive/SHI_sample/CNNmodel/assets\n",
            "33/32 [==============================] - 174s 5s/step - loss: 1.1847 - accuracy: 0.6838 - val_loss: 1824912.5000 - val_accuracy: 0.3578\n",
            "Epoch 3/5\n",
            "33/32 [==============================] - ETA: 0s - loss: 0.9156 - accuracy: 0.6238\n",
            "Epoch 00003: accuracy did not improve from 0.68381\n",
            "33/32 [==============================] - 166s 5s/step - loss: 0.9156 - accuracy: 0.6238 - val_loss: 3289136.7500 - val_accuracy: 0.3578\n",
            "Epoch 4/5\n",
            "33/32 [==============================] - ETA: 0s - loss: 251.6786 - accuracy: 0.5800\n",
            "Epoch 00004: accuracy did not improve from 0.68381\n",
            "33/32 [==============================] - 164s 5s/step - loss: 251.6786 - accuracy: 0.5800 - val_loss: 135335.1562 - val_accuracy: 0.3578\n",
            "Epoch 5/5\n",
            "33/32 [==============================] - ETA: 0s - loss: 6.9696 - accuracy: 0.6076\n",
            "Epoch 00005: accuracy did not improve from 0.68381\n",
            "33/32 [==============================] - 145s 4s/step - loss: 6.9696 - accuracy: 0.6076 - val_loss: 73267992.0000 - val_accuracy: 0.3578\n"
          ],
          "name": "stdout"
        },
        {
          "output_type": "display_data",
          "data": {
            "image/png": "[encoded data removed]",
            "text/plain": [
              "<Figure size 432x288 with 1 Axes>"
            ]
          },
          "metadata": {
            "tags": [],
            "needs_background": "light"
          }
        },
        {
          "output_type": "display_data",
          "data": {
            "image/png": "[encoded data removed]",
            "text/plain": [
              "<Figure size 432x288 with 1 Axes>"
            ]
          },
          "metadata": {
            "tags": [],
            "needs_background": "light"
          }
        },
        {
          "output_type": "stream",
          "text": [
            "Epoch 1/5\n",
            "33/32 [==============================] - ETA: 0s - loss: 1.3201 - accuracy: 0.6524\n",
            "Epoch 00001: accuracy improved from -inf to 0.65238, saving model to /content/drive/My Drive/SHI_sample/CNNmodel\n",
            "INFO:tensorflow:Assets written to: /content/drive/My Drive/SHI_sample/CNNmodel/assets\n",
            "33/32 [==============================] - 148s 4s/step - loss: 1.3201 - accuracy: 0.6524 - val_loss: 236.5725 - val_accuracy: 0.3578\n",
            "Epoch 2/5\n",
            "33/32 [==============================] - ETA: 0s - loss: 0.8693 - accuracy: 0.6743\n",
            "Epoch 00002: accuracy improved from 0.65238 to 0.67429, saving model to /content/drive/My Drive/SHI_sample/CNNmodel\n",
            "INFO:tensorflow:Assets written to: /content/drive/My Drive/SHI_sample/CNNmodel/assets\n",
            "33/32 [==============================] - 142s 4s/step - loss: 0.8693 - accuracy: 0.6743 - val_loss: 37.1556 - val_accuracy: 0.3578\n",
            "Epoch 3/5\n",
            "33/32 [==============================] - ETA: 0s - loss: 0.5059 - accuracy: 0.6562\n",
            "Epoch 00003: accuracy did not improve from 0.67429\n",
            "33/32 [==============================] - 138s 4s/step - loss: 0.5059 - accuracy: 0.6562 - val_loss: 56.0526 - val_accuracy: 0.6711\n",
            "Epoch 4/5\n",
            "33/32 [==============================] - ETA: 0s - loss: 0.4921 - accuracy: 0.6590\n",
            "Epoch 00004: accuracy did not improve from 0.67429\n",
            "33/32 [==============================] - 133s 4s/step - loss: 0.4921 - accuracy: 0.6590 - val_loss: 46.8281 - val_accuracy: 0.3578\n",
            "Epoch 5/5\n",
            "33/32 [==============================] - ETA: 0s - loss: 0.4816 - accuracy: 0.6676\n",
            "Epoch 00005: accuracy did not improve from 0.67429\n",
            "33/32 [==============================] - 140s 4s/step - loss: 0.4816 - accuracy: 0.6676 - val_loss: 49.0315 - val_accuracy: 0.6711\n"
          ],
          "name": "stdout"
        },
        {
          "output_type": "display_data",
          "data": {
            "image/png": "[encoded data removed]",
            "text/plain": [
              "<Figure size 432x288 with 1 Axes>"
            ]
          },
          "metadata": {
            "tags": [],
            "needs_background": "light"
          }
        },
        {
          "output_type": "display_data",
          "data": {
            "image/png": "[encoded data removed]",
            "text/plain": [
              "<Figure size 432x288 with 1 Axes>"
            ]
          },
          "metadata": {
            "tags": [],
            "needs_background": "light"
          }
        },
        {
          "output_type": "display_data",
          "data": {
            "text/plain": [
              "<Figure size 432x288 with 0 Axes>"
            ]
          },
          "metadata": {
            "tags": []
          }
        }
      ]
    },
    {
      "cell_type": "markdown",
      "metadata": {
        "id": "_Juqd4U7yw3i",
        "colab_type": "text"
      },
      "source": [
        "Loading the saved model and evaluating it with the testing parameters"
      ]
    },
    {
      "cell_type": "code",
      "metadata": {
        "id": "7OgTpEU_O2OR",
        "colab_type": "code",
        "colab": {
          "base_uri": "https://localhost:8080/",
          "height": 50
        },
        "outputId": "b03dbb6f-2461-4ace-8ee3-eb00c16ff7d2"
      },
      "source": [
        "import tensorflow as tf\n",
        "import tensorflow \n",
        "\n",
        "CNN_loaded_model = load_model('/content/drive/My Drive/SHI_sample/CNNmodel/1106937_CNN.h5')\n",
        "\n",
        "cnn_test_eval = CNN_loaded_model.evaluate(x_test, y_test)\n",
        "predicted_output = CNN_loaded_model.predict(x_test)\n",
        "print(cnn_test_eval)\n"
      ],
      "execution_count": 22,
      "outputs": [
        {
          "output_type": "stream",
          "text": [
            "15/15 [==============================] - 5s 340ms/step - loss: 49.0315 - accuracy: 0.6711\n",
            "[49.03151321411133, 0.6711111068725586]\n"
          ],
          "name": "stdout"
        }
      ]
    },
    {
      "cell_type": "code",
      "metadata": {
        "id": "nPL-dNDmY8lE",
        "colab_type": "code",
        "colab": {
          "base_uri": "https://localhost:8080/",
          "height": 33
        },
        "outputId": "347d99a3-c1b1-40c2-c267-377746cdcc35"
      },
      "source": [
        "# Finding an intermediate layer for feature extraction. layers[-2] and Layer32 are the same and hence, it is used as the layer for extracting the features\n",
        "CNN_loaded_model.layers[-2]"
      ],
      "execution_count": 23,
      "outputs": [
        {
          "output_type": "execute_result",
          "data": {
            "text/plain": [
              "<tensorflow.python.keras.layers.core.Dense at 0x7f90fa140588>"
            ]
          },
          "metadata": {
            "tags": []
          },
          "execution_count": 23
        }
      ]
    },
    {
      "cell_type": "code",
      "metadata": {
        "id": "_U5Mjggovicq",
        "colab_type": "code",
        "colab": {
          "base_uri": "https://localhost:8080/",
          "height": 33
        },
        "outputId": "68f17e05-e6e8-4f45-bfbd-e41d6ea97f36"
      },
      "source": [
        "CNN_loaded_model.get_layer('Layer32')"
      ],
      "execution_count": 24,
      "outputs": [
        {
          "output_type": "execute_result",
          "data": {
            "text/plain": [
              "<tensorflow.python.keras.layers.core.Dense at 0x7f90fa140588>"
            ]
          },
          "metadata": {
            "tags": []
          },
          "execution_count": 24
        }
      ]
    },
    {
      "cell_type": "code",
      "metadata": {
        "id": "EcBwwxpMOGWa",
        "colab_type": "code",
        "colab": {
          "base_uri": "https://localhost:8080/",
          "height": 1000
        },
        "outputId": "65bbfff0-8ee5-4e28-e597-5daf3b1b149a"
      },
      "source": [
        "layer_name = 'Layer32'\n",
        "feature_extractor_data = Model(inputs = CNN_loaded_model.inputs, outputs=CNN_loaded_model.get_layer(layer_name).output)\n",
        "feature_extractor_data.summary()"
      ],
      "execution_count": 25,
      "outputs": [
        {
          "output_type": "stream",
          "text": [
            "Model: \"functional_1\"\n",
            "_________________________________________________________________\n",
            "Layer (type)                 Output Shape              Param #   \n",
            "=================================================================\n",
            "Layer1_input (InputLayer)    [(None, 32, 32, 3)]       0         \n",
            "_________________________________________________________________\n",
            "Layer1 (Conv2D)              (None, 32, 32, 64)        1792      \n",
            "_________________________________________________________________\n",
            "Layer2 (Conv2D)              (None, 32, 32, 64)        36928     \n",
            "_________________________________________________________________\n",
            "Layer3 (MaxPooling2D)        (None, 16, 16, 64)        0         \n",
            "_________________________________________________________________\n",
            "Layer4 (Conv2D)              (None, 16, 16, 128)       73856     \n",
            "_________________________________________________________________\n",
            "Layer5 (Conv2D)              (None, 16, 16, 128)       147584    \n",
            "_________________________________________________________________\n",
            "Layer6 (BatchNormalization)  (None, 16, 16, 128)       512       \n",
            "_________________________________________________________________\n",
            "Layer7 (Dropout)             (None, 16, 16, 128)       0         \n",
            "_________________________________________________________________\n",
            "Layer8 (MaxPooling2D)        (None, 8, 8, 128)         0         \n",
            "_________________________________________________________________\n",
            "Layer9 (Conv2D)              (None, 8, 8, 256)         295168    \n",
            "_________________________________________________________________\n",
            "Layer10 (Conv2D)             (None, 8, 8, 256)         590080    \n",
            "_________________________________________________________________\n",
            "Layer11 (Conv2D)             (None, 8, 8, 256)         590080    \n",
            "_________________________________________________________________\n",
            "Layer12 (BatchNormalization) (None, 8, 8, 256)         1024      \n",
            "_________________________________________________________________\n",
            "Layer13 (Dropout)            (None, 8, 8, 256)         0         \n",
            "_________________________________________________________________\n",
            "Layer14 (MaxPooling2D)       (None, 4, 4, 256)         0         \n",
            "_________________________________________________________________\n",
            "Layer15 (Conv2D)             (None, 4, 4, 512)         1180160   \n",
            "_________________________________________________________________\n",
            "Layer16 (Conv2D)             (None, 4, 4, 512)         2359808   \n",
            "_________________________________________________________________\n",
            "Layer17 (Conv2D)             (None, 4, 4, 512)         2359808   \n",
            "_________________________________________________________________\n",
            "Layer18 (BatchNormalization) (None, 4, 4, 512)         2048      \n",
            "_________________________________________________________________\n",
            "Layer19 (Dropout)            (None, 4, 4, 512)         0         \n",
            "_________________________________________________________________\n",
            "Layer20 (MaxPooling2D)       (None, 2, 2, 512)         0         \n",
            "_________________________________________________________________\n",
            "Layer21 (Conv2D)             (None, 2, 2, 512)         2359808   \n",
            "_________________________________________________________________\n",
            "Layer22 (Conv2D)             (None, 2, 2, 512)         2359808   \n",
            "_________________________________________________________________\n",
            "Layer23 (Conv2D)             (None, 2, 2, 512)         2359808   \n",
            "_________________________________________________________________\n",
            "Layer24 (Conv2D)             (None, 2, 2, 512)         2359808   \n",
            "_________________________________________________________________\n",
            "Layer25 (BatchNormalization) (None, 2, 2, 512)         2048      \n",
            "_________________________________________________________________\n",
            "Layer26 (Dropout)            (None, 2, 2, 512)         0         \n",
            "_________________________________________________________________\n",
            "Layer27 (MaxPooling2D)       (None, 1, 1, 512)         0         \n",
            "_________________________________________________________________\n",
            "Layer28 (Flatten)            (None, 512)               0         \n",
            "_________________________________________________________________\n",
            "Layer29 (Dropout)            (None, 512)               0         \n",
            "_________________________________________________________________\n",
            "Layer30 (Dense)              (None, 4096)              2101248   \n",
            "_________________________________________________________________\n",
            "Layer31 (Dropout)            (None, 4096)              0         \n",
            "_________________________________________________________________\n",
            "Layer32 (Dense)              (None, 4096)              16781312  \n",
            "=================================================================\n",
            "Total params: 35,962,688\n",
            "Trainable params: 35,959,872\n",
            "Non-trainable params: 2,816\n",
            "_________________________________________________________________\n"
          ],
          "name": "stdout"
        }
      ]
    },
    {
      "cell_type": "markdown",
      "metadata": {
        "id": "GOz3CwydO4up",
        "colab_type": "text"
      },
      "source": [
        "KNN Classifier"
      ]
    },
    {
      "cell_type": "code",
      "metadata": {
        "id": "0gEi2ro7Z9AR",
        "colab_type": "code",
        "colab": {}
      },
      "source": [
        "# Splitting and extracting the the images and label for test and train respectively\n",
        "\n",
        "knn_image_train, knn_image_test, knn_label_train, knn_label_test = train_test_split(final_image_data, final_image_label, train_size = 0.7, random_state = 42, shuffle = True)\n",
        "features_train = np.array(feature_extractor_data(knn_image_train))\n",
        "features_test = np.array(feature_extractor_data(knn_image_test))\n",
        "knn_train_op =np.array(knn_label_train)\n",
        "knn_test_op =np.array(knn_label_test)"
      ],
      "execution_count": 26,
      "outputs": []
    },
    {
      "cell_type": "code",
      "metadata": {
        "id": "1U7eDCIByHAk",
        "colab_type": "code",
        "colab": {
          "base_uri": "https://localhost:8080/",
          "height": 83
        },
        "outputId": "b32b28fc-199e-42b1-9141-4d26284d17ad"
      },
      "source": [
        "print(\"Shape of the training images:\", features_train.shape, \"\\nShape of testing images:\", features_test.shape, \"\\nShape of training labels: \",knn_train_op.shape, \"\\nShape of Testing Labels: \", knn_test_op.shape)"
      ],
      "execution_count": 27,
      "outputs": [
        {
          "output_type": "stream",
          "text": [
            "Shape of the training images: (1050, 4096) \n",
            "Shape of testing images: (450, 4096) \n",
            "Shape of training labels:  (1050,) \n",
            "Shape of Testing Labels:  (450,)\n"
          ],
          "name": "stdout"
        }
      ]
    },
    {
      "cell_type": "code",
      "metadata": {
        "id": "yzznkO7crbZH",
        "colab_type": "code",
        "colab": {
          "base_uri": "https://localhost:8080/",
          "height": 33
        },
        "outputId": "ddab2e36-b449-476b-8739-225c5fb9a8ef"
      },
      "source": [
        "# Importing necessary libraries\n",
        "\n",
        "from sklearn.neighbors import KNeighborsClassifier\n",
        "from sklearn import metrics\n",
        "from sklearn.metrics import confusion_matrix, accuracy_score\n",
        "from sklearn.metrics import classification_report\n",
        "from sklearn.model_selection import cross_val_score\n",
        "\n",
        "# looping between 3 and 10 so that a list of k with values 3,5,7,9 be taken for knn\n",
        "k_range = list(range(3,10,2))\n",
        "\n",
        "# creating Python dictionary for scores \n",
        "scores_train = []\n",
        "\n",
        "\n",
        "# appending the scores in the dictionary for each k and fitting the model\n",
        "for k in k_range:\n",
        "  k_nn_model = KNeighborsClassifier(n_neighbors=k)\n",
        "  k_nn_model.fit(features_train, knn_train_op)\n",
        "  # print(k_neighbor.score(features_train, knn_train_op))\n",
        "  # # knn_train_output = k_neighbor.predict(features_train)\n",
        "  x_pred = k_nn_model.predict(features_train)\n",
        "  scores_train.append(metrics.accuracy_score(knn_train_op, x_pred))\n",
        "\n",
        "print(scores_train)"
      ],
      "execution_count": 28,
      "outputs": [
        {
          "output_type": "stream",
          "text": [
            "[0.7609523809523809, 0.7409523809523809, 0.7238095238095238, 0.7228571428571429]\n"
          ],
          "name": "stdout"
        }
      ]
    },
    {
      "cell_type": "markdown",
      "metadata": {
        "id": "DlNLmAay0EBu",
        "colab_type": "text"
      },
      "source": [
        "We find that the best value is with k = 3"
      ]
    },
    {
      "cell_type": "code",
      "metadata": {
        "id": "PJCBTJqbtZet",
        "colab_type": "code",
        "colab": {
          "base_uri": "https://localhost:8080/",
          "height": 83
        },
        "outputId": "7ee84e71-22db-4d52-9402-5cf495e5f7c4"
      },
      "source": [
        "for k in range(0,4):\n",
        "  print(\"Accuracy for k =\", k_range[k], \"is: \", scores_train[k] )"
      ],
      "execution_count": 29,
      "outputs": [
        {
          "output_type": "stream",
          "text": [
            "Accuracy for k = 3 is:  0.7609523809523809\n",
            "Accuracy for k = 5 is:  0.7409523809523809\n",
            "Accuracy for k = 7 is:  0.7238095238095238\n",
            "Accuracy for k = 9 is:  0.7228571428571429\n"
          ],
          "name": "stdout"
        }
      ]
    },
    {
      "cell_type": "code",
      "metadata": {
        "id": "F56ibSQgtkLK",
        "colab_type": "code",
        "colab": {
          "base_uri": "https://localhost:8080/",
          "height": 279
        },
        "outputId": "198d1488-b87a-41a9-aff2-4f0470c62c78"
      },
      "source": [
        "# import Matplotlib\n",
        "import matplotlib.pyplot as plt\n",
        "\n",
        "# allow plots to appear within the notebook\n",
        "%matplotlib inline\n",
        "\n",
        "# plot the relationship between K and training accuracy\n",
        "# plt.plot(x_axis, y_axis)\n",
        "plt.plot(k_range, scores_train)\n",
        "plt.xlabel('Value of K for KNN')\n",
        "plt.ylabel('Training Accuracy')\n",
        "plt.savefig('knn_training_accuracy.png')"
      ],
      "execution_count": 30,
      "outputs": [
        {
          "output_type": "display_data",
          "data": {
            "image/png": "[encoded data removed]",
            "text/plain": [
              "<Figure size 432x288 with 1 Axes>"
            ]
          },
          "metadata": {
            "tags": [],
            "needs_background": "light"
          }
        }
      ]
    },
    {
      "cell_type": "code",
      "metadata": {
        "id": "vyFyaKUyRdZn",
        "colab_type": "code",
        "colab": {
          "base_uri": "https://localhost:8080/",
          "height": 233
        },
        "outputId": "41af283e-3c6e-4b03-87d1-d028c9ae4553"
      },
      "source": [
        "print(confusion_matrix(knn_train_op, x_pred))\n",
        "print(classification_report(knn_train_op, x_pred))"
      ],
      "execution_count": 31,
      "outputs": [
        {
          "output_type": "stream",
          "text": [
            "[[256  71  25]\n",
            " [ 27 326   6]\n",
            " [ 86  76 177]]\n",
            "              precision    recall  f1-score   support\n",
            "\n",
            "     Abdomen       0.69      0.73      0.71       352\n",
            "       Chest       0.69      0.91      0.78       359\n",
            "        Head       0.85      0.52      0.65       339\n",
            "\n",
            "    accuracy                           0.72      1050\n",
            "   macro avg       0.74      0.72      0.71      1050\n",
            "weighted avg       0.74      0.72      0.71      1050\n",
            "\n"
          ],
          "name": "stdout"
        }
      ]
    },
    {
      "cell_type": "code",
      "metadata": {
        "id": "XPlk1RTvycaS",
        "colab_type": "code",
        "colab": {}
      },
      "source": [
        "# saving the knn model to a pickle file\n",
        "with open('1106937_KNN.pkl', 'wb') as f:\n",
        "    pickle.dump(k_nn_model, f)\n",
        "\n",
        "# loading the saved file\n",
        "with open('1106937_KNN.pkl', 'rb') as f:\n",
        "    knn_clf = pickle.load(f)"
      ],
      "execution_count": 32,
      "outputs": []
    },
    {
      "cell_type": "code",
      "metadata": {
        "id": "Pdg4TEpJZtIV",
        "colab_type": "code",
        "colab": {
          "base_uri": "https://localhost:8080/",
          "height": 317
        },
        "outputId": "420ec93a-aec6-4069-8767-8911f0392c87"
      },
      "source": [
        "# Using the loaded model to evaluate the test variables. the model will run for k = 3 as that was found to be the best model in training\n",
        "knn_clf.fit(features_test, knn_test_op)\n",
        "y_pred_knn = knn_clf.predict(features_test)\n",
        "accuracy_knn = (metrics.accuracy_score(knn_test_op, y_pred_knn))*100\n",
        "print('Accuracy of knn model is equal ' + str(round(accuracy_knn, 2)) + ' %.')\n",
        "print(\"\\nConfusion Matrix KNN\\n\",confusion_matrix(knn_test_op, y_pred_knn))\n",
        "print(\"\\nConfusion Report KNN\\n\",classification_report(knn_test_op, y_pred_knn))"
      ],
      "execution_count": 33,
      "outputs": [
        {
          "output_type": "stream",
          "text": [
            "Accuracy of knn model is equal 69.56 %.\n",
            "\n",
            "Confusion Matrix KNN\n",
            " [[ 95  39  14]\n",
            " [ 13 128   0]\n",
            " [ 37  34  90]]\n",
            "\n",
            "Confusion Report KNN\n",
            "               precision    recall  f1-score   support\n",
            "\n",
            "     Abdomen       0.66      0.64      0.65       148\n",
            "       Chest       0.64      0.91      0.75       141\n",
            "        Head       0.87      0.56      0.68       161\n",
            "\n",
            "    accuracy                           0.70       450\n",
            "   macro avg       0.72      0.70      0.69       450\n",
            "weighted avg       0.72      0.70      0.69       450\n",
            "\n"
          ],
          "name": "stdout"
        }
      ]
    },
    {
      "cell_type": "markdown",
      "metadata": {
        "id": "t27qOPO8gJw6",
        "colab_type": "text"
      },
      "source": [
        "RANDOM FOREST"
      ]
    },
    {
      "cell_type": "code",
      "metadata": {
        "id": "UbAazJxD2OH_",
        "colab_type": "code",
        "colab": {}
      },
      "source": [
        "RF_train = np.array(feature_extractor_data(knn_image_train))\n",
        "RF_test = np.array(feature_extractor_data(knn_image_test))"
      ],
      "execution_count": 34,
      "outputs": []
    },
    {
      "cell_type": "code",
      "metadata": {
        "id": "5VoV7xdZ2uP-",
        "colab_type": "code",
        "colab": {}
      },
      "source": [
        "# importing the necessary libraries for implementing the random forest classifier \n",
        "\n",
        "import sklearn\n",
        "from sklearn.model_selection import StratifiedKFold\n",
        "from sklearn.ensemble import RandomForestClassifier\n",
        "from sklearn.model_selection import learning_curve, GridSearchCV\n",
        "from sklearn.neighbors import KNeighborsClassifier\n",
        "from sklearn.metrics import confusion_matrix, accuracy_score\n",
        "from sklearn.model_selection import cross_val_score"
      ],
      "execution_count": 35,
      "outputs": []
    },
    {
      "cell_type": "code",
      "metadata": {
        "id": "JTzgLskH4YoG",
        "colab_type": "code",
        "colab": {}
      },
      "source": [
        "RandomForest = RandomForestClassifier(n_estimators = 20, random_state = 42, max_features=4)\n",
        "RFmodel = RandomForest.fit(RF_train, knn_label_train)"
      ],
      "execution_count": 36,
      "outputs": []
    },
    {
      "cell_type": "code",
      "metadata": {
        "id": "98xvc4iY4atS",
        "colab_type": "code",
        "colab": {}
      },
      "source": [
        "# Predictions on training and validation\n",
        "y_pred_train = RFmodel.predict(RF_train)\n"
      ],
      "execution_count": 37,
      "outputs": []
    },
    {
      "cell_type": "code",
      "metadata": {
        "id": "gxT1NiEE4x_M",
        "colab_type": "code",
        "colab": {
          "base_uri": "https://localhost:8080/",
          "height": 200
        },
        "outputId": "18eed5b7-427d-457b-f364-64ca43133819"
      },
      "source": [
        "print(\"Training metrics:\")\n",
        "print(sklearn.metrics.classification_report(y_true= knn_label_train, y_pred= y_pred_train))\n",
        "    "
      ],
      "execution_count": 38,
      "outputs": [
        {
          "output_type": "stream",
          "text": [
            "Training metrics:\n",
            "              precision    recall  f1-score   support\n",
            "\n",
            "     Abdomen       0.97      0.99      0.98       352\n",
            "       Chest       0.98      1.00      0.99       359\n",
            "        Head       1.00      0.95      0.98       339\n",
            "\n",
            "    accuracy                           0.98      1050\n",
            "   macro avg       0.98      0.98      0.98      1050\n",
            "weighted avg       0.98      0.98      0.98      1050\n",
            "\n"
          ],
          "name": "stdout"
        }
      ]
    },
    {
      "cell_type": "code",
      "metadata": {
        "id": "NzksPeeLS-K_",
        "colab_type": "code",
        "colab": {}
      },
      "source": [
        "# Saving the pickle file for Random forest model without any hyperparameter tuning\n",
        "with open('RFbeforeTuning.pkl', 'wb') as f:\n",
        "    pickle.dump(RFmodel, f)\n",
        "\n",
        "# loading the model\n",
        "with open('RFbeforeTuning.pkl', 'rb') as f:\n",
        "    RF_loadedModel = pickle.load(f)"
      ],
      "execution_count": 39,
      "outputs": []
    },
    {
      "cell_type": "code",
      "metadata": {
        "id": "sh__mm3eTG4V",
        "colab_type": "code",
        "colab": {}
      },
      "source": [
        "    # predictions for test\n",
        "y_pred_test = RF_loadedModel.predict(RF_test)"
      ],
      "execution_count": 40,
      "outputs": []
    },
    {
      "cell_type": "code",
      "metadata": {
        "id": "DC4m3xRv5Hiy",
        "colab_type": "code",
        "colab": {
          "base_uri": "https://localhost:8080/",
          "height": 250
        },
        "outputId": "672c4d7b-7b23-44da-e59c-dea6619fd639"
      },
      "source": [
        "    # test data metrics\n",
        "print(\"Test data metrics:\")\n",
        "print(sklearn.metrics.classification_report(y_true= knn_label_test, y_pred= y_pred_test))\n",
        "print(confusion_matrix(knn_label_test,y_pred_test))"
      ],
      "execution_count": 41,
      "outputs": [
        {
          "output_type": "stream",
          "text": [
            "Test data metrics:\n",
            "              precision    recall  f1-score   support\n",
            "\n",
            "     Abdomen       0.52      0.49      0.51       148\n",
            "       Chest       0.60      0.72      0.65       141\n",
            "        Head       0.57      0.50      0.53       161\n",
            "\n",
            "    accuracy                           0.56       450\n",
            "   macro avg       0.56      0.57      0.56       450\n",
            "weighted avg       0.56      0.56      0.56       450\n",
            "\n",
            "[[ 73  34  41]\n",
            " [ 20 101  20]\n",
            " [ 47  34  80]]\n"
          ],
          "name": "stdout"
        }
      ]
    },
    {
      "cell_type": "code",
      "metadata": {
        "id": "XE4LvpidFjWT",
        "colab_type": "code",
        "colab": {
          "base_uri": "https://localhost:8080/",
          "height": 1000
        },
        "outputId": "d1d2b006-eaf2-4700-8e9e-11414c9fe718"
      },
      "source": [
        "# Importing necessary libraries\n",
        "from sklearn.model_selection import RandomizedSearchCV\n",
        "from sklearn.model_selection import cross_val_score\n",
        "import numpy as np\n",
        "from time import time\n",
        "from operator import itemgetter\n",
        "from scipy.stats import randint as sp_randint\n",
        "from sklearn.datasets import load_digits\n",
        "from sklearn.ensemble import RandomForestClassifier\n",
        "\n",
        "rf_clf = RandomForestClassifier()\n",
        "\n",
        "# Utility function to report best scores\n",
        "def report(grid_scores, n_top=3):\n",
        "    top_scores = sorted(grid_scores, key=itemgetter(1), reverse=True)[:n_top]\n",
        "    for i, score in enumerate(top_scores):\n",
        "        print(\"Model with rank: {0}\".format(i + 1))\n",
        "\n",
        "# specify parameter distribution\n",
        "param_dist = {\"max_depth\": [3, None],\n",
        "              \"min_samples_leaf\": sp_randint(1, 11),\n",
        "              \"bootstrap\": [True, False],\n",
        "              \"criterion\": [\"gini\", \"entropy\"],\n",
        "              \"n_estimators\": list(np.linspace(151, 1200, 10, dtype = int))}\n",
        "\n",
        "n_iter_search = 20\n",
        "\n",
        "# Using random search to perform hyperparameter tuning with k cross validation where k = 4 \n",
        "RF_newmodel = RandomizedSearchCV(rf_clf, param_distributions = param_dist, n_iter = n_iter_search, \n",
        "                               cv = 4, verbose= 5, random_state= 42)\n",
        "\n",
        "start = time()\n",
        "    \n",
        "RF_newmodel.fit(RF_train, knn_label_train)\n",
        "\n",
        "print(\"RandomizedSearchCV took %.2f seconds for %d candidates\"\n",
        "      \" parameter settings.\" % ((time() - start), n_iter_search))\n",
        "report(RF_newmodel.cv_results_)"
      ],
      "execution_count": 42,
      "outputs": [
        {
          "output_type": "stream",
          "text": [
            "Fitting 4 folds for each of 20 candidates, totalling 80 fits\n",
            "[CV] bootstrap=True, criterion=entropy, max_depth=3, min_samples_leaf=8, n_estimators=617 \n"
          ],
          "name": "stdout"
        },
        {
          "output_type": "stream",
          "text": [
            "[Parallel(n_jobs=1)]: Using backend SequentialBackend with 1 concurrent workers.\n"
          ],
          "name": "stderr"
        },
        {
          "output_type": "stream",
          "text": [
            "[CV]  bootstrap=True, criterion=entropy, max_depth=3, min_samples_leaf=8, n_estimators=617, score=0.696, total=   2.3s\n",
            "[CV] bootstrap=True, criterion=entropy, max_depth=3, min_samples_leaf=8, n_estimators=617 \n"
          ],
          "name": "stdout"
        },
        {
          "output_type": "stream",
          "text": [
            "[Parallel(n_jobs=1)]: Done   1 out of   1 | elapsed:    2.4s remaining:    0.0s\n"
          ],
          "name": "stderr"
        },
        {
          "output_type": "stream",
          "text": [
            "[CV]  bootstrap=True, criterion=entropy, max_depth=3, min_samples_leaf=8, n_estimators=617, score=0.688, total=   2.3s\n",
            "[CV] bootstrap=True, criterion=entropy, max_depth=3, min_samples_leaf=8, n_estimators=617 \n"
          ],
          "name": "stdout"
        },
        {
          "output_type": "stream",
          "text": [
            "[Parallel(n_jobs=1)]: Done   2 out of   2 | elapsed:    4.7s remaining:    0.0s\n"
          ],
          "name": "stderr"
        },
        {
          "output_type": "stream",
          "text": [
            "[CV]  bootstrap=True, criterion=entropy, max_depth=3, min_samples_leaf=8, n_estimators=617, score=0.695, total=   2.3s\n",
            "[CV] bootstrap=True, criterion=entropy, max_depth=3, min_samples_leaf=8, n_estimators=617 \n"
          ],
          "name": "stdout"
        },
        {
          "output_type": "stream",
          "text": [
            "[Parallel(n_jobs=1)]: Done   3 out of   3 | elapsed:    7.0s remaining:    0.0s\n"
          ],
          "name": "stderr"
        },
        {
          "output_type": "stream",
          "text": [
            "[CV]  bootstrap=True, criterion=entropy, max_depth=3, min_samples_leaf=8, n_estimators=617, score=0.683, total=   2.4s\n",
            "[CV] bootstrap=True, criterion=entropy, max_depth=3, min_samples_leaf=7, n_estimators=966 \n"
          ],
          "name": "stdout"
        },
        {
          "output_type": "stream",
          "text": [
            "[Parallel(n_jobs=1)]: Done   4 out of   4 | elapsed:    9.3s remaining:    0.0s\n"
          ],
          "name": "stderr"
        },
        {
          "output_type": "stream",
          "text": [
            "[CV]  bootstrap=True, criterion=entropy, max_depth=3, min_samples_leaf=7, n_estimators=966, score=0.696, total=   3.5s\n",
            "[CV] bootstrap=True, criterion=entropy, max_depth=3, min_samples_leaf=7, n_estimators=966 \n",
            "[CV]  bootstrap=True, criterion=entropy, max_depth=3, min_samples_leaf=7, n_estimators=966, score=0.688, total=   3.7s\n",
            "[CV] bootstrap=True, criterion=entropy, max_depth=3, min_samples_leaf=7, n_estimators=966 \n",
            "[CV]  bootstrap=True, criterion=entropy, max_depth=3, min_samples_leaf=7, n_estimators=966, score=0.695, total=   3.7s\n",
            "[CV] bootstrap=True, criterion=entropy, max_depth=3, min_samples_leaf=7, n_estimators=966 \n",
            "[CV]  bootstrap=True, criterion=entropy, max_depth=3, min_samples_leaf=7, n_estimators=966, score=0.683, total=   3.6s\n",
            "[CV] bootstrap=True, criterion=entropy, max_depth=None, min_samples_leaf=8, n_estimators=384 \n",
            "[CV]  bootstrap=True, criterion=entropy, max_depth=None, min_samples_leaf=8, n_estimators=384, score=0.616, total=   2.3s\n",
            "[CV] bootstrap=True, criterion=entropy, max_depth=None, min_samples_leaf=8, n_estimators=384 \n",
            "[CV]  bootstrap=True, criterion=entropy, max_depth=None, min_samples_leaf=8, n_estimators=384, score=0.684, total=   2.4s\n",
            "[CV] bootstrap=True, criterion=entropy, max_depth=None, min_samples_leaf=8, n_estimators=384 \n",
            "[CV]  bootstrap=True, criterion=entropy, max_depth=None, min_samples_leaf=8, n_estimators=384, score=0.668, total=   2.4s\n",
            "[CV] bootstrap=True, criterion=entropy, max_depth=None, min_samples_leaf=8, n_estimators=384 \n",
            "[CV]  bootstrap=True, criterion=entropy, max_depth=None, min_samples_leaf=8, n_estimators=384, score=0.634, total=   2.4s\n",
            "[CV] bootstrap=False, criterion=gini, max_depth=None, min_samples_leaf=8, n_estimators=733 \n",
            "[CV]  bootstrap=False, criterion=gini, max_depth=None, min_samples_leaf=8, n_estimators=733, score=0.608, total=   4.6s\n",
            "[CV] bootstrap=False, criterion=gini, max_depth=None, min_samples_leaf=8, n_estimators=733 \n",
            "[CV]  bootstrap=False, criterion=gini, max_depth=None, min_samples_leaf=8, n_estimators=733, score=0.650, total=   4.5s\n",
            "[CV] bootstrap=False, criterion=gini, max_depth=None, min_samples_leaf=8, n_estimators=733 \n",
            "[CV]  bootstrap=False, criterion=gini, max_depth=None, min_samples_leaf=8, n_estimators=733, score=0.649, total=   4.6s\n",
            "[CV] bootstrap=False, criterion=gini, max_depth=None, min_samples_leaf=8, n_estimators=733 \n",
            "[CV]  bootstrap=False, criterion=gini, max_depth=None, min_samples_leaf=8, n_estimators=733, score=0.626, total=   4.4s\n",
            "[CV] bootstrap=False, criterion=entropy, max_depth=None, min_samples_leaf=5, n_estimators=151 \n",
            "[CV]  bootstrap=False, criterion=entropy, max_depth=None, min_samples_leaf=5, n_estimators=151, score=0.639, total=   1.7s\n",
            "[CV] bootstrap=False, criterion=entropy, max_depth=None, min_samples_leaf=5, n_estimators=151 \n",
            "[CV]  bootstrap=False, criterion=entropy, max_depth=None, min_samples_leaf=5, n_estimators=151, score=0.650, total=   1.6s\n",
            "[CV] bootstrap=False, criterion=entropy, max_depth=None, min_samples_leaf=5, n_estimators=151 \n",
            "[CV]  bootstrap=False, criterion=entropy, max_depth=None, min_samples_leaf=5, n_estimators=151, score=0.630, total=   1.8s\n",
            "[CV] bootstrap=False, criterion=entropy, max_depth=None, min_samples_leaf=5, n_estimators=151 \n",
            "[CV]  bootstrap=False, criterion=entropy, max_depth=None, min_samples_leaf=5, n_estimators=151, score=0.603, total=   1.7s\n",
            "[CV] bootstrap=False, criterion=entropy, max_depth=None, min_samples_leaf=9, n_estimators=151 \n",
            "[CV]  bootstrap=False, criterion=entropy, max_depth=None, min_samples_leaf=9, n_estimators=151, score=0.586, total=   1.4s\n",
            "[CV] bootstrap=False, criterion=entropy, max_depth=None, min_samples_leaf=9, n_estimators=151 \n",
            "[CV]  bootstrap=False, criterion=entropy, max_depth=None, min_samples_leaf=9, n_estimators=151, score=0.650, total=   1.4s\n",
            "[CV] bootstrap=False, criterion=entropy, max_depth=None, min_samples_leaf=9, n_estimators=151 \n",
            "[CV]  bootstrap=False, criterion=entropy, max_depth=None, min_samples_leaf=9, n_estimators=151, score=0.653, total=   1.4s\n",
            "[CV] bootstrap=False, criterion=entropy, max_depth=None, min_samples_leaf=9, n_estimators=151 \n",
            "[CV]  bootstrap=False, criterion=entropy, max_depth=None, min_samples_leaf=9, n_estimators=151, score=0.611, total=   1.4s\n",
            "[CV] bootstrap=True, criterion=gini, max_depth=3, min_samples_leaf=10, n_estimators=384 \n",
            "[CV]  bootstrap=True, criterion=gini, max_depth=3, min_samples_leaf=10, n_estimators=384, score=0.688, total=   1.1s\n",
            "[CV] bootstrap=True, criterion=gini, max_depth=3, min_samples_leaf=10, n_estimators=384 \n",
            "[CV]  bootstrap=True, criterion=gini, max_depth=3, min_samples_leaf=10, n_estimators=384, score=0.692, total=   1.1s\n",
            "[CV] bootstrap=True, criterion=gini, max_depth=3, min_samples_leaf=10, n_estimators=384 \n",
            "[CV]  bootstrap=True, criterion=gini, max_depth=3, min_samples_leaf=10, n_estimators=384, score=0.683, total=   1.1s\n",
            "[CV] bootstrap=True, criterion=gini, max_depth=3, min_samples_leaf=10, n_estimators=384 \n",
            "[CV]  bootstrap=True, criterion=gini, max_depth=3, min_samples_leaf=10, n_estimators=384, score=0.683, total=   1.1s\n",
            "[CV] bootstrap=False, criterion=gini, max_depth=None, min_samples_leaf=9, n_estimators=384 \n",
            "[CV]  bootstrap=False, criterion=gini, max_depth=None, min_samples_leaf=9, n_estimators=384, score=0.593, total=   2.3s\n",
            "[CV] bootstrap=False, criterion=gini, max_depth=None, min_samples_leaf=9, n_estimators=384 \n",
            "[CV]  bootstrap=False, criterion=gini, max_depth=None, min_samples_leaf=9, n_estimators=384, score=0.631, total=   2.3s\n",
            "[CV] bootstrap=False, criterion=gini, max_depth=None, min_samples_leaf=9, n_estimators=384 \n",
            "[CV]  bootstrap=False, criterion=gini, max_depth=None, min_samples_leaf=9, n_estimators=384, score=0.653, total=   2.4s\n",
            "[CV] bootstrap=False, criterion=gini, max_depth=None, min_samples_leaf=9, n_estimators=384 \n",
            "[CV]  bootstrap=False, criterion=gini, max_depth=None, min_samples_leaf=9, n_estimators=384, score=0.618, total=   2.5s\n",
            "[CV] bootstrap=True, criterion=gini, max_depth=3, min_samples_leaf=5, n_estimators=1083 \n",
            "[CV]  bootstrap=True, criterion=gini, max_depth=3, min_samples_leaf=5, n_estimators=1083, score=0.692, total=   3.2s\n",
            "[CV] bootstrap=True, criterion=gini, max_depth=3, min_samples_leaf=5, n_estimators=1083 \n",
            "[CV]  bootstrap=True, criterion=gini, max_depth=3, min_samples_leaf=5, n_estimators=1083, score=0.692, total=   3.2s\n",
            "[CV] bootstrap=True, criterion=gini, max_depth=3, min_samples_leaf=5, n_estimators=1083 \n",
            "[CV]  bootstrap=True, criterion=gini, max_depth=3, min_samples_leaf=5, n_estimators=1083, score=0.683, total=   3.2s\n",
            "[CV] bootstrap=True, criterion=gini, max_depth=3, min_samples_leaf=5, n_estimators=1083 \n",
            "[CV]  bootstrap=True, criterion=gini, max_depth=3, min_samples_leaf=5, n_estimators=1083, score=0.683, total=   3.3s\n",
            "[CV] bootstrap=True, criterion=entropy, max_depth=None, min_samples_leaf=9, n_estimators=267 \n",
            "[CV]  bootstrap=True, criterion=entropy, max_depth=None, min_samples_leaf=9, n_estimators=267, score=0.627, total=   1.7s\n",
            "[CV] bootstrap=True, criterion=entropy, max_depth=None, min_samples_leaf=9, n_estimators=267 \n",
            "[CV]  bootstrap=True, criterion=entropy, max_depth=None, min_samples_leaf=9, n_estimators=267, score=0.669, total=   1.7s\n",
            "[CV] bootstrap=True, criterion=entropy, max_depth=None, min_samples_leaf=9, n_estimators=267 \n",
            "[CV]  bootstrap=True, criterion=entropy, max_depth=None, min_samples_leaf=9, n_estimators=267, score=0.668, total=   1.7s\n",
            "[CV] bootstrap=True, criterion=entropy, max_depth=None, min_samples_leaf=9, n_estimators=267 \n",
            "[CV]  bootstrap=True, criterion=entropy, max_depth=None, min_samples_leaf=9, n_estimators=267, score=0.630, total=   1.7s\n",
            "[CV] bootstrap=False, criterion=gini, max_depth=None, min_samples_leaf=5, n_estimators=267 \n",
            "[CV]  bootstrap=False, criterion=gini, max_depth=None, min_samples_leaf=5, n_estimators=267, score=0.608, total=   2.0s\n",
            "[CV] bootstrap=False, criterion=gini, max_depth=None, min_samples_leaf=5, n_estimators=267 \n",
            "[CV]  bootstrap=False, criterion=gini, max_depth=None, min_samples_leaf=5, n_estimators=267, score=0.639, total=   2.1s\n",
            "[CV] bootstrap=False, criterion=gini, max_depth=None, min_samples_leaf=5, n_estimators=267 \n",
            "[CV]  bootstrap=False, criterion=gini, max_depth=None, min_samples_leaf=5, n_estimators=267, score=0.626, total=   2.0s\n",
            "[CV] bootstrap=False, criterion=gini, max_depth=None, min_samples_leaf=5, n_estimators=267 \n",
            "[CV]  bootstrap=False, criterion=gini, max_depth=None, min_samples_leaf=5, n_estimators=267, score=0.607, total=   2.0s\n",
            "[CV] bootstrap=False, criterion=entropy, max_depth=3, min_samples_leaf=7, n_estimators=966 \n",
            "[CV]  bootstrap=False, criterion=entropy, max_depth=3, min_samples_leaf=7, n_estimators=966, score=0.677, total=   5.0s\n",
            "[CV] bootstrap=False, criterion=entropy, max_depth=3, min_samples_leaf=7, n_estimators=966 \n",
            "[CV]  bootstrap=False, criterion=entropy, max_depth=3, min_samples_leaf=7, n_estimators=966, score=0.684, total=   5.4s\n",
            "[CV] bootstrap=False, criterion=entropy, max_depth=3, min_samples_leaf=7, n_estimators=966 \n",
            "[CV]  bootstrap=False, criterion=entropy, max_depth=3, min_samples_leaf=7, n_estimators=966, score=0.695, total=   5.2s\n",
            "[CV] bootstrap=False, criterion=entropy, max_depth=3, min_samples_leaf=7, n_estimators=966 \n",
            "[CV]  bootstrap=False, criterion=entropy, max_depth=3, min_samples_leaf=7, n_estimators=966, score=0.687, total=   5.2s\n",
            "[CV] bootstrap=True, criterion=gini, max_depth=None, min_samples_leaf=1, n_estimators=500 \n",
            "[CV]  bootstrap=True, criterion=gini, max_depth=None, min_samples_leaf=1, n_estimators=500, score=0.548, total=   3.3s\n",
            "[CV] bootstrap=True, criterion=gini, max_depth=None, min_samples_leaf=1, n_estimators=500 \n",
            "[CV]  bootstrap=True, criterion=gini, max_depth=None, min_samples_leaf=1, n_estimators=500, score=0.570, total=   3.4s\n",
            "[CV] bootstrap=True, criterion=gini, max_depth=None, min_samples_leaf=1, n_estimators=500 \n",
            "[CV]  bootstrap=True, criterion=gini, max_depth=None, min_samples_leaf=1, n_estimators=500, score=0.550, total=   3.3s\n",
            "[CV] bootstrap=True, criterion=gini, max_depth=None, min_samples_leaf=1, n_estimators=500 \n",
            "[CV]  bootstrap=True, criterion=gini, max_depth=None, min_samples_leaf=1, n_estimators=500, score=0.618, total=   3.3s\n",
            "[CV] bootstrap=False, criterion=entropy, max_depth=None, min_samples_leaf=2, n_estimators=733 \n",
            "[CV]  bootstrap=False, criterion=entropy, max_depth=None, min_samples_leaf=2, n_estimators=733, score=0.551, total=  11.3s\n",
            "[CV] bootstrap=False, criterion=entropy, max_depth=None, min_samples_leaf=2, n_estimators=733 \n",
            "[CV]  bootstrap=False, criterion=entropy, max_depth=None, min_samples_leaf=2, n_estimators=733, score=0.605, total=  10.0s\n",
            "[CV] bootstrap=False, criterion=entropy, max_depth=None, min_samples_leaf=2, n_estimators=733 \n",
            "[CV]  bootstrap=False, criterion=entropy, max_depth=None, min_samples_leaf=2, n_estimators=733, score=0.588, total=  10.8s\n",
            "[CV] bootstrap=False, criterion=entropy, max_depth=None, min_samples_leaf=2, n_estimators=733 \n",
            "[CV]  bootstrap=False, criterion=entropy, max_depth=None, min_samples_leaf=2, n_estimators=733, score=0.618, total=  10.1s\n",
            "[CV] bootstrap=False, criterion=entropy, max_depth=None, min_samples_leaf=6, n_estimators=267 \n",
            "[CV]  bootstrap=False, criterion=entropy, max_depth=None, min_samples_leaf=6, n_estimators=267, score=0.601, total=   2.9s\n",
            "[CV] bootstrap=False, criterion=entropy, max_depth=None, min_samples_leaf=6, n_estimators=267 \n",
            "[CV]  bootstrap=False, criterion=entropy, max_depth=None, min_samples_leaf=6, n_estimators=267, score=0.627, total=   2.9s\n",
            "[CV] bootstrap=False, criterion=entropy, max_depth=None, min_samples_leaf=6, n_estimators=267 \n",
            "[CV]  bootstrap=False, criterion=entropy, max_depth=None, min_samples_leaf=6, n_estimators=267, score=0.634, total=   3.1s\n",
            "[CV] bootstrap=False, criterion=entropy, max_depth=None, min_samples_leaf=6, n_estimators=267 \n",
            "[CV]  bootstrap=False, criterion=entropy, max_depth=None, min_samples_leaf=6, n_estimators=267, score=0.611, total=   2.9s\n",
            "[CV] bootstrap=False, criterion=entropy, max_depth=None, min_samples_leaf=10, n_estimators=500 \n",
            "[CV]  bootstrap=False, criterion=entropy, max_depth=None, min_samples_leaf=10, n_estimators=500, score=0.582, total=   4.7s\n",
            "[CV] bootstrap=False, criterion=entropy, max_depth=None, min_samples_leaf=10, n_estimators=500 \n",
            "[CV]  bootstrap=False, criterion=entropy, max_depth=None, min_samples_leaf=10, n_estimators=500, score=0.654, total=   4.7s\n",
            "[CV] bootstrap=False, criterion=entropy, max_depth=None, min_samples_leaf=10, n_estimators=500 \n",
            "[CV]  bootstrap=False, criterion=entropy, max_depth=None, min_samples_leaf=10, n_estimators=500, score=0.649, total=   4.9s\n",
            "[CV] bootstrap=False, criterion=entropy, max_depth=None, min_samples_leaf=10, n_estimators=500 \n",
            "[CV]  bootstrap=False, criterion=entropy, max_depth=None, min_samples_leaf=10, n_estimators=500, score=0.615, total=   4.7s\n",
            "[CV] bootstrap=False, criterion=gini, max_depth=None, min_samples_leaf=8, n_estimators=850 \n",
            "[CV]  bootstrap=False, criterion=gini, max_depth=None, min_samples_leaf=8, n_estimators=850, score=0.605, total=   5.8s\n",
            "[CV] bootstrap=False, criterion=gini, max_depth=None, min_samples_leaf=8, n_estimators=850 \n",
            "[CV]  bootstrap=False, criterion=gini, max_depth=None, min_samples_leaf=8, n_estimators=850, score=0.650, total=   5.8s\n",
            "[CV] bootstrap=False, criterion=gini, max_depth=None, min_samples_leaf=8, n_estimators=850 \n",
            "[CV]  bootstrap=False, criterion=gini, max_depth=None, min_samples_leaf=8, n_estimators=850, score=0.649, total=   5.8s\n",
            "[CV] bootstrap=False, criterion=gini, max_depth=None, min_samples_leaf=8, n_estimators=850 \n",
            "[CV]  bootstrap=False, criterion=gini, max_depth=None, min_samples_leaf=8, n_estimators=850, score=0.615, total=   5.7s\n",
            "[CV] bootstrap=False, criterion=gini, max_depth=None, min_samples_leaf=8, n_estimators=617 \n",
            "[CV]  bootstrap=False, criterion=gini, max_depth=None, min_samples_leaf=8, n_estimators=617, score=0.608, total=   4.1s\n",
            "[CV] bootstrap=False, criterion=gini, max_depth=None, min_samples_leaf=8, n_estimators=617 \n",
            "[CV]  bootstrap=False, criterion=gini, max_depth=None, min_samples_leaf=8, n_estimators=617, score=0.650, total=   4.1s\n",
            "[CV] bootstrap=False, criterion=gini, max_depth=None, min_samples_leaf=8, n_estimators=617 \n",
            "[CV]  bootstrap=False, criterion=gini, max_depth=None, min_samples_leaf=8, n_estimators=617, score=0.649, total=   3.7s\n",
            "[CV] bootstrap=False, criterion=gini, max_depth=None, min_samples_leaf=8, n_estimators=617 \n",
            "[CV]  bootstrap=False, criterion=gini, max_depth=None, min_samples_leaf=8, n_estimators=617, score=0.626, total=   3.5s\n",
            "[CV] bootstrap=False, criterion=gini, max_depth=None, min_samples_leaf=5, n_estimators=966 \n",
            "[CV]  bootstrap=False, criterion=gini, max_depth=None, min_samples_leaf=5, n_estimators=966, score=0.624, total=   6.1s\n",
            "[CV] bootstrap=False, criterion=gini, max_depth=None, min_samples_leaf=5, n_estimators=966 \n",
            "[CV]  bootstrap=False, criterion=gini, max_depth=None, min_samples_leaf=5, n_estimators=966, score=0.631, total=   6.4s\n",
            "[CV] bootstrap=False, criterion=gini, max_depth=None, min_samples_leaf=5, n_estimators=966 \n",
            "[CV]  bootstrap=False, criterion=gini, max_depth=None, min_samples_leaf=5, n_estimators=966, score=0.626, total=   6.3s\n",
            "[CV] bootstrap=False, criterion=gini, max_depth=None, min_samples_leaf=5, n_estimators=966 \n",
            "[CV]  bootstrap=False, criterion=gini, max_depth=None, min_samples_leaf=5, n_estimators=966, score=0.615, total=   6.5s\n",
            "[CV] bootstrap=False, criterion=gini, max_depth=None, min_samples_leaf=9, n_estimators=151 \n",
            "[CV]  bootstrap=False, criterion=gini, max_depth=None, min_samples_leaf=9, n_estimators=151, score=0.597, total=   0.9s\n",
            "[CV] bootstrap=False, criterion=gini, max_depth=None, min_samples_leaf=9, n_estimators=151 \n",
            "[CV]  bootstrap=False, criterion=gini, max_depth=None, min_samples_leaf=9, n_estimators=151, score=0.635, total=   0.9s\n",
            "[CV] bootstrap=False, criterion=gini, max_depth=None, min_samples_leaf=9, n_estimators=151 \n",
            "[CV]  bootstrap=False, criterion=gini, max_depth=None, min_samples_leaf=9, n_estimators=151, score=0.653, total=   0.9s\n",
            "[CV] bootstrap=False, criterion=gini, max_depth=None, min_samples_leaf=9, n_estimators=151 \n",
            "[CV]  bootstrap=False, criterion=gini, max_depth=None, min_samples_leaf=9, n_estimators=151, score=0.618, total=   0.9s\n"
          ],
          "name": "stdout"
        },
        {
          "output_type": "stream",
          "text": [
            "[Parallel(n_jobs=1)]: Done  80 out of  80 | elapsed:  4.7min finished\n"
          ],
          "name": "stderr"
        },
        {
          "output_type": "stream",
          "text": [
            "RandomizedSearchCV took 283.39 seconds for 20 candidates parameter settings.\n",
            "Model with rank: 1\n",
            "Model with rank: 2\n",
            "Model with rank: 3\n"
          ],
          "name": "stdout"
        }
      ]
    },
    {
      "cell_type": "code",
      "metadata": {
        "id": "r3odjNFGY18h",
        "colab_type": "code",
        "colab": {
          "base_uri": "https://localhost:8080/",
          "height": 33
        },
        "outputId": "09032cea-fc84-4455-824a-622cc9714511"
      },
      "source": [
        "print(RF_newmodel.best_params_)"
      ],
      "execution_count": 43,
      "outputs": [
        {
          "output_type": "stream",
          "text": [
            "{'bootstrap': True, 'criterion': 'entropy', 'max_depth': 3, 'min_samples_leaf': 8, 'n_estimators': 617}\n"
          ],
          "name": "stdout"
        }
      ]
    },
    {
      "cell_type": "code",
      "metadata": {
        "id": "Gmo9qHHOR13_",
        "colab_type": "code",
        "colab": {
          "base_uri": "https://localhost:8080/",
          "height": 280
        },
        "outputId": "bb3459ee-1568-4f50-bddf-b7b87e9ca8ee"
      },
      "source": [
        "import seaborn as sns\n",
        "\n",
        "table = pd.pivot_table(pd.DataFrame(RF_newmodel.cv_results_),\n",
        "    values='mean_test_score', index='param_n_estimators', \n",
        "                       columns='param_criterion')\n",
        "     \n",
        "plot = sns.heatmap(table)\n",
        "figure = plot.get_figure() \n",
        "figure.savefig('heatmap_RF.png', dpi=400)"
      ],
      "execution_count": 44,
      "outputs": [
        {
          "output_type": "display_data",
          "data": {
            "image/png": "[encoded data removed]",
            "text/plain": [
              "<Figure size 432x288 with 2 Axes>"
            ]
          },
          "metadata": {
            "tags": [],
            "needs_background": "light"
          }
        }
      ]
    },
    {
      "cell_type": "code",
      "metadata": {
        "id": "L6ojAD6DwDrg",
        "colab_type": "code",
        "colab": {
          "base_uri": "https://localhost:8080/",
          "height": 250
        },
        "outputId": "bc92982d-f24a-472c-e6fb-9d0dcedcb824"
      },
      "source": [
        "# Importing necessary libraries and printing the train score for RF\n",
        "from sklearn.metrics import accuracy_score\n",
        "train_predictforest = RF_newmodel.best_estimator_.predict(RF_train)\n",
        "print(confusion_matrix(knn_label_train,train_predictforest))\n",
        "print(classification_report(knn_label_train,train_predictforest))\n",
        "RF_train_accuracy = accuracy_score(knn_label_train,train_predictforest)\n",
        "print(RF_train_accuracy)"
      ],
      "execution_count": 45,
      "outputs": [
        {
          "output_type": "stream",
          "text": [
            "[[236 112   4]\n",
            " [  2 356   1]\n",
            " [103  94 142]]\n",
            "              precision    recall  f1-score   support\n",
            "\n",
            "     Abdomen       0.69      0.67      0.68       352\n",
            "       Chest       0.63      0.99      0.77       359\n",
            "        Head       0.97      0.42      0.58       339\n",
            "\n",
            "    accuracy                           0.70      1050\n",
            "   macro avg       0.76      0.69      0.68      1050\n",
            "weighted avg       0.76      0.70      0.68      1050\n",
            "\n",
            "0.699047619047619\n"
          ],
          "name": "stdout"
        }
      ]
    },
    {
      "cell_type": "code",
      "metadata": {
        "id": "gcAT9pkdWK-D",
        "colab_type": "code",
        "colab": {}
      },
      "source": [
        "# saving the RF model\n",
        "with open('1106937_RF.pkl', 'wb') as f:\n",
        "    pickle.dump(RF_newmodel, f)\n",
        "\n",
        "# loading the pickle model\n",
        "with open('1106937_RF.pkl', 'rb') as f:\n",
        "    RF_loadedModel = pickle.load(f)"
      ],
      "execution_count": 46,
      "outputs": []
    },
    {
      "cell_type": "code",
      "metadata": {
        "id": "gAfmUr71Wg5o",
        "colab_type": "code",
        "colab": {
          "base_uri": "https://localhost:8080/",
          "height": 317
        },
        "outputId": "a4b756f1-3303-4590-f128-926319a34e3a"
      },
      "source": [
        "# Importing necessary libraries and printing the test score for RF\n",
        "\n",
        "from sklearn.metrics import classification_report,confusion_matrix\n",
        "from sklearn.metrics import accuracy_score\n",
        "\n",
        "# Using the loaded model to fit and compile the model with testing parameters\n",
        "\n",
        "predictionforest = RF_loadedModel.best_estimator_.predict(RF_test)\n",
        "print(\"\\nConfusion Matrix RF\\n\",confusion_matrix(knn_label_test,predictionforest))\n",
        "print(\"\\nReport RF\\n\",classification_report(knn_label_test,predictionforest))\n",
        "RF_test_accuracy = (accuracy_score(knn_label_test,predictionforest))*100\n",
        "print('Accuracy of RF model is equal ' + str(round(RF_test_accuracy, 2)) + ' %.')"
      ],
      "execution_count": 47,
      "outputs": [
        {
          "output_type": "stream",
          "text": [
            "\n",
            "Confusion Matrix RF\n",
            " [[ 88  60   0]\n",
            " [  1 140   0]\n",
            " [ 61  41  59]]\n",
            "\n",
            "Report RF\n",
            "               precision    recall  f1-score   support\n",
            "\n",
            "     Abdomen       0.59      0.59      0.59       148\n",
            "       Chest       0.58      0.99      0.73       141\n",
            "        Head       1.00      0.37      0.54       161\n",
            "\n",
            "    accuracy                           0.64       450\n",
            "   macro avg       0.72      0.65      0.62       450\n",
            "weighted avg       0.73      0.64      0.62       450\n",
            "\n",
            "Accuracy of RF model is equal 63.78 %.\n"
          ],
          "name": "stdout"
        }
      ]
    }
  ]
}